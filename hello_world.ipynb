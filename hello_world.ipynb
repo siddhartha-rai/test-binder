{
  "metadata": {
    "kernelspec": {
      "name": "python3",
      "display_name": "Python 3 (ipykernel)",
      "language": "python"
    },
    "language_info": {
      "name": "python",
      "version": "3.10.16",
      "mimetype": "text/x-python",
      "codemirror_mode": {
        "name": "ipython",
        "version": 3
      },
      "pygments_lexer": "ipython3",
      "nbconvert_exporter": "python",
      "file_extension": ".py"
    },
    "colab": {
      "provenance": []
    }
  },
  "nbformat_minor": 5,
  "nbformat": 4,
  "cells": [
    {
      "id": "5ecdb9a2-e3ef-45b7-8f5e-1e4c6604bba5",
      "cell_type": "code",
      "source": [
        "print(\"Hi there\")\n"
      ],
      "metadata": {
        "trusted": true,
        "id": "5ecdb9a2-e3ef-45b7-8f5e-1e4c6604bba5"
      },
      "outputs": [],
      "execution_count": null
    },
    {
      "id": "dc5a669a-3ec7-4956-a157-34d5a6fc5c73",
      "cell_type": "code",
      "source": [],
      "metadata": {
        "trusted": true,
        "id": "dc5a669a-3ec7-4956-a157-34d5a6fc5c73"
      },
      "outputs": [],
      "execution_count": null
    }
  ]
}